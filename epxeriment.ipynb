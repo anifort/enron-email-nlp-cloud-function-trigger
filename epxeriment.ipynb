{
 "cells": [
  {
   "cell_type": "code",
   "execution_count": 9,
   "id": "0d7fc714",
   "metadata": {},
   "outputs": [],
   "source": [
    "from os import listdir\n",
    "from os.path import isfile, join\n",
    "mypath='enron_with_categories/1'\n",
    "onlyfiles = [join(mypath, f) for f in listdir(mypath) if isfile(join(mypath, f)) and f.endswith('.txt')]"
   ]
  },
  {
   "cell_type": "code",
   "execution_count": 13,
   "id": "1f354513",
   "metadata": {},
   "outputs": [
    {
     "name": "stdout",
     "output_type": "stream",
     "text": [
      "\u001b[33mWARNING: Ignoring invalid distribution -oogle-cloud-datastore (/opt/conda/lib/python3.7/site-packages)\u001b[0m\n",
      "\u001b[33mWARNING: Ignoring invalid distribution -oogle-cloud-datastore (/opt/conda/lib/python3.7/site-packages)\u001b[0m\n",
      "Collecting mail-parser\n",
      "  Downloading mail_parser-3.15.0-py3-none-any.whl (25 kB)\n",
      "Requirement already satisfied: simplejson>=3.17.0 in /opt/conda/lib/python3.7/site-packages (from mail-parser) (3.17.2)\n",
      "Requirement already satisfied: six>=1.14.0 in /opt/conda/lib/python3.7/site-packages (from mail-parser) (1.15.0)\n",
      "\u001b[33mWARNING: Ignoring invalid distribution -oogle-cloud-datastore (/opt/conda/lib/python3.7/site-packages)\u001b[0m\n",
      "Installing collected packages: mail-parser\n",
      "\u001b[33mWARNING: Ignoring invalid distribution -oogle-cloud-datastore (/opt/conda/lib/python3.7/site-packages)\u001b[0m\n",
      "Successfully installed mail-parser-3.15.0\n",
      "\u001b[33mWARNING: Ignoring invalid distribution -oogle-cloud-datastore (/opt/conda/lib/python3.7/site-packages)\u001b[0m\n",
      "\u001b[33mWARNING: Ignoring invalid distribution -oogle-cloud-datastore (/opt/conda/lib/python3.7/site-packages)\u001b[0m\n",
      "\u001b[33mWARNING: Ignoring invalid distribution -oogle-cloud-datastore (/opt/conda/lib/python3.7/site-packages)\u001b[0m\n",
      "\u001b[33mWARNING: You are using pip version 21.1.2; however, version 21.2.4 is available.\n",
      "You should consider upgrading via the '/opt/conda/bin/python3.7 -m pip install --upgrade pip' command.\u001b[0m\n"
     ]
    }
   ],
   "source": [
    "!pip3 install mail-parser==3.15.0\n",
    "!pip3 install --upgrade google-cloud-language==2.2.2"
   ]
  },
  {
   "cell_type": "code",
   "execution_count": 53,
   "id": "2e0efb87",
   "metadata": {},
   "outputs": [],
   "source": [
    "import mailparser\n",
    "from google.cloud import language_v1\n",
    "\n",
    "from google.cloud import storage\n",
    "import datetime, json"
   ]
  },
  {
   "cell_type": "code",
   "execution_count": 55,
   "id": "31c4ead2",
   "metadata": {},
   "outputs": [
    {
     "name": "stdout",
     "output_type": "stream",
     "text": [
      "2001-09-12 22:19:51\n",
      "alan.comnes@enron.com\n",
      "['alan.comnes@enron.com', 'ray.alvarez@enron.com', 'steve.walton@enron.com', 'susan.mara@enron.com', 'leslie.lawner@enron.com', 'w..cantrell@enron.com', 'donna.fulton@enron.com', 'jeff.dasovich@enron.com', 'l..nicolay@enron.com', 'd..steffes@enron.com', 'k..allen@enron.com', 'j..noske@enron.com', 'dave.perrino@enron.com', 'don.black@enron.com', 'robert.frank@enron.com', 'stephanie.miller@enron.com', 'barry.tycholiz@enron.com', 'sarah.novosel@enron.com', 'jennifer.thome@enron.com', '.hall@enron.com', 'susan.lindberg@enron.com']\n"
     ]
    }
   ],
   "source": [
    "client = storage.Client()\n",
    "bucket = client.get_bucket('feature-store-mars21')\n",
    "\n",
    "blob = bucket.get_blob('tmp/128802.txt')\n",
    "\n",
    "mail = mailparser.parse_from_bytes(blob.download_as_bytes())\n",
    "#print(f, mail.body)\n",
    "print(mail.date)\n",
    "#print(mail.mail_json)\n",
    "mail = json.loads(mail.mail_json)\n",
    "print(mail['from'][0][1])\n",
    "to = [item[1] for item in mail['to']]\n",
    "print(to)"
   ]
  },
  {
   "cell_type": "code",
   "execution_count": 30,
   "id": "9b6d0359",
   "metadata": {},
   "outputs": [],
   "source": [
    "client = language_v1.LanguageServiceClient()\n",
    "\n",
    "# text_content = 'Grapes are good. Bananas are bad.'\n",
    "\n",
    "# Available types: PLAIN_TEXT, HTML\n",
    "type_ = language_v1.Document.Type.PLAIN_TEXT\n",
    "\n",
    "# Optional. If not specified, the language is automatically detected.\n",
    "# For list of supported languages:\n",
    "# https://cloud.google.com/natural-language/docs/languages\n",
    "language = \"en\"\n",
    "document = {\"content\": mail['body'], \"type_\": type_, \"language\": language}\n",
    "\n",
    "# Available values: NONE, UTF8, UTF16, UTF32\n",
    "encoding_type = language_v1.EncodingType.UTF8\n",
    "\n",
    "features = {\n",
    "  \"extract_syntax\": False,\n",
    "  \"extract_entities\": True,\n",
    "  \"extract_document_sentiment\": True,\n",
    "  \"extract_entity_sentiment\": False,\n",
    "  \"classify_text\": True\n",
    "}\n",
    "\n",
    "features\n",
    "# Returns overall sentiment of email. not sentence by sentence.\n",
    "response = client.annotate_text(\n",
    "    document= document, encoding_type= encoding_type, features=features )\n",
    "\n"
   ]
  },
  {
   "cell_type": "code",
   "execution_count": 51,
   "id": "34a4e01c",
   "metadata": {},
   "outputs": [
    {
     "data": {
      "text/plain": [
       "0.5400000214576721"
      ]
     },
     "execution_count": 51,
     "metadata": {},
     "output_type": "execute_result"
    }
   ],
   "source": [
    "# to get email sentiment\n",
    "response.document_sentiment.magnitude\n",
    "\n",
    "\n",
    "# list of entities\n",
    "response.entities\n",
    "\n",
    "# list of categories - receiving the most dominand\n",
    "response.categories[0].name\n",
    "response.categories[0].confidence\n",
    "\n",
    "\n"
   ]
  }
 ],
 "metadata": {
  "environment": {
   "name": "common-cpu.m69",
   "type": "gcloud",
   "uri": "gcr.io/deeplearning-platform-release/base-cpu:m69"
  },
  "kernelspec": {
   "display_name": "Python 3",
   "language": "python",
   "name": "python3"
  },
  "language_info": {
   "codemirror_mode": {
    "name": "ipython",
    "version": 3
   },
   "file_extension": ".py",
   "mimetype": "text/x-python",
   "name": "python",
   "nbconvert_exporter": "python",
   "pygments_lexer": "ipython3",
   "version": "3.7.10"
  }
 },
 "nbformat": 4,
 "nbformat_minor": 5
}
